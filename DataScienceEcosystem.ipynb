{
 "cells": [
  {
   "cell_type": "markdown",
   "id": "125c177f-80ac-4a72-8909-0aacf220b502",
   "metadata": {},
   "source": [
    "# Data Science Tools and Ecosystem"
   ]
  },
  {
   "cell_type": "markdown",
   "id": "1c052845-3871-4ec9-acfb-06e58e48c4c9",
   "metadata": {},
   "source": [
    "In this notebook, Data Science Tools and Ecosystem are summarized."
   ]
  },
  {
   "cell_type": "markdown",
   "id": "e56fbfcb-a18c-4c38-9534-aa1f2fb2e5b1",
   "metadata": {
    "tags": []
   },
   "source": [
    "Some of the popular languages that Data Scientists use are:\n",
    "1. python\n",
    "2. R\n",
    "3. Julia"
   ]
  },
  {
   "cell_type": "markdown",
   "id": "0b61b315-f576-401b-a72f-4f9ba034ecb7",
   "metadata": {},
   "source": [
    "some of the commonly used libraries used by Data Scientists include:\n",
    "1. pandas\n",
    "2. matplotlib\n",
    "3. Tensorflow"
   ]
  },
  {
   "cell_type": "markdown",
   "id": "ed38f9a0-2d1f-4db3-b115-4bca2e4ca21e",
   "metadata": {},
   "source": [
    "| Column 1 | \n",
    "|:--------:|\n",
    "|  Row 1   | \n",
    "|  Row 2   |  \n",
    "|  Row 3   |"
   ]
  },
  {
   "cell_type": "markdown",
   "id": "8914c1eb-8004-43cd-bf67-1ec26b0d1ba6",
   "metadata": {},
   "source": [
    "### Below are a few examples of evaluating arithmetic expressions in Python"
   ]
  },
  {
   "cell_type": "code",
   "execution_count": 7,
   "id": "4e5f3b42-a39e-4125-b79b-faf31a5348b7",
   "metadata": {
    "tags": []
   },
   "outputs": [
    {
     "data": {
      "text/plain": [
       "17"
      ]
     },
     "execution_count": 7,
     "metadata": {},
     "output_type": "execute_result"
    }
   ],
   "source": [
    "# This a simple arithmetic expression to mutiply then add integers\n",
    "(3*4)+5"
   ]
  },
  {
   "cell_type": "code",
   "execution_count": 8,
   "id": "412d5df4-c08b-43c0-b20c-46104c2f6b01",
   "metadata": {
    "tags": []
   },
   "outputs": [
    {
     "data": {
      "text/plain": [
       "3.3333333333333335"
      ]
     },
     "execution_count": 8,
     "metadata": {},
     "output_type": "execute_result"
    }
   ],
   "source": [
    "# This will convert 200 minutes to hours by diving by 60\n",
    "200/60\n"
   ]
  },
  {
   "cell_type": "markdown",
   "id": "39181a33-1ca6-4980-9bc0-b65767a5710d",
   "metadata": {
    "tags": []
   },
   "source": [
    "# **Objectives:**\n",
    "List popular languages for Data Science:\n",
    "<ul>\n",
    "<li>Python</li>\n",
    "<li>R</li>\n",
    "<li>Julia</li>\n",
    "<li>Java</li>\n",
    "<ul>"
   ]
  },
  {
   "cell_type": "markdown",
   "id": "b2d5e3a4-26c1-4f56-9d9d-fe8d40b13de1",
   "metadata": {
    "tags": []
   },
   "source": [
    "## Author\n",
    "name\n"
   ]
  },
  {
   "cell_type": "code",
   "execution_count": null,
   "id": "d8fe14a1-107c-4fd2-aa69-b8bc9b3b2311",
   "metadata": {},
   "outputs": [],
   "source": []
  }
 ],
 "metadata": {
  "kernelspec": {
   "display_name": "Python",
   "language": "python",
   "name": "conda-env-python-py"
  },
  "language_info": {
   "codemirror_mode": {
    "name": "ipython",
    "version": 3
   },
   "file_extension": ".py",
   "mimetype": "text/x-python",
   "name": "python",
   "nbconvert_exporter": "python",
   "pygments_lexer": "ipython3",
   "version": "3.7.12"
  }
 },
 "nbformat": 4,
 "nbformat_minor": 5
}
